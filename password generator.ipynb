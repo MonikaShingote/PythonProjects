{
 "cells": [
  {
   "cell_type": "code",
   "execution_count": 2,
   "id": "e1d09b2e",
   "metadata": {},
   "outputs": [],
   "source": [
    "import random"
   ]
  },
  {
   "cell_type": "markdown",
   "id": "2280e61b",
   "metadata": {},
   "source": [
    "## type 1"
   ]
  },
  {
   "cell_type": "code",
   "execution_count": 6,
   "id": "b16a624c",
   "metadata": {},
   "outputs": [
    {
     "name": "stdout",
     "output_type": "stream",
     "text": [
      "enter the length of password : 6\n",
      "PASSWORD :  Kkq&YI\n"
     ]
    }
   ],
   "source": [
    "length = int(input(\"enter the length of password : \"))\n",
    "s=\"abcdefghijklmnopqrstuvwxyz01234567890ABCDEFGHIJKLMNOPQRSTUVWXYZ!@#$%&?\"\n",
    "p = \"\".join(random.sample(s,length ))\n",
    "print('PASSWORD : ',p)"
   ]
  },
  {
   "cell_type": "markdown",
   "id": "2b257ebe",
   "metadata": {},
   "source": [
    "## type 2"
   ]
  },
  {
   "cell_type": "code",
   "execution_count": 30,
   "id": "e09d3e94",
   "metadata": {},
   "outputs": [
    {
     "name": "stdout",
     "output_type": "stream",
     "text": [
      "PASSWORD :  cb#%13\n"
     ]
    }
   ],
   "source": [
    "letter='abcd'\n",
    "num='12345'\n",
    "splcharac='!@#$%&*_+'\n",
    "password=''.join((random.sample(letter,2)+random.sample(splcharac,2)+random.sample(num,2)))\n",
    "print('PASSWORD : ',password)"
   ]
  },
  {
   "cell_type": "code",
   "execution_count": 31,
   "id": "6bc99001",
   "metadata": {},
   "outputs": [],
   "source": [
    "def password():\n",
    "    letter='abcd'\n",
    "    num='12345'\n",
    "    splcharac='!@#$%&*_+'\n",
    "    password=''.join((random.sample(letter,2)+random.sample(splcharac,2)+random.sample(num,2)))\n",
    "    print('PASSWORD : ',password)"
   ]
  },
  {
   "cell_type": "code",
   "execution_count": 34,
   "id": "d5cc7a9e",
   "metadata": {},
   "outputs": [
    {
     "name": "stdout",
     "output_type": "stream",
     "text": [
      "PASSWORD :  cd*$31\n"
     ]
    }
   ],
   "source": [
    "password()"
   ]
  },
  {
   "cell_type": "code",
   "execution_count": 35,
   "id": "8367b28d",
   "metadata": {},
   "outputs": [
    {
     "name": "stdout",
     "output_type": "stream",
     "text": [
      "PASSWORD :  ba+#53\n",
      "PASSWORD :  bc@*35\n",
      "PASSWORD :  ba_$42\n",
      "PASSWORD :  ba_@54\n",
      "PASSWORD :  cd_&53\n"
     ]
    }
   ],
   "source": [
    "for i in range(5):\n",
    "    password()"
   ]
  },
  {
   "cell_type": "code",
   "execution_count": null,
   "id": "87e5281e",
   "metadata": {},
   "outputs": [],
   "source": []
  }
 ],
 "metadata": {
  "kernelspec": {
   "display_name": "Python 3 (ipykernel)",
   "language": "python",
   "name": "python3"
  },
  "language_info": {
   "codemirror_mode": {
    "name": "ipython",
    "version": 3
   },
   "file_extension": ".py",
   "mimetype": "text/x-python",
   "name": "python",
   "nbconvert_exporter": "python",
   "pygments_lexer": "ipython3",
   "version": "3.9.12"
  }
 },
 "nbformat": 4,
 "nbformat_minor": 5
}
