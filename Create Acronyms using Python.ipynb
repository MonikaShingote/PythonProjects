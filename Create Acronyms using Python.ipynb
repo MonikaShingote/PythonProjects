{
 "cells": [
  {
   "cell_type": "markdown",
   "id": "8afe7b05",
   "metadata": {},
   "source": [
    "### An acronym is a short form of a word created by long words or phrases such as NLP for natural language processing."
   ]
  },
  {
   "cell_type": "code",
   "execution_count": 1,
   "id": "e959a37a",
   "metadata": {},
   "outputs": [
    {
     "name": "stdout",
     "output_type": "stream",
     "text": [
      "ENTER TEXT : artificial intelligence\n",
      "AI\n"
     ]
    }
   ],
   "source": [
    "user_input = str(input('ENTER TEXT : '))\n",
    "text=user_input.split()\n",
    "a=''\n",
    "for i in text:\n",
    "    a+=str(i[0].upper())\n",
    "print(a)"
   ]
  },
  {
   "cell_type": "markdown",
   "id": "fa87820e",
   "metadata": {},
   "source": [
    "## creating function "
   ]
  },
  {
   "cell_type": "code",
   "execution_count": 4,
   "id": "e644bf21",
   "metadata": {},
   "outputs": [],
   "source": [
    "def acronyms():\n",
    "    user_input = str(input('ENTER TEXT : '))\n",
    "    text=user_input.split()\n",
    "    a=''\n",
    "    for i in text:\n",
    "        a+=str(i[0].upper())\n",
    "    print('acronym of text : ',a)"
   ]
  },
  {
   "cell_type": "code",
   "execution_count": 6,
   "id": "c50e9b3b",
   "metadata": {},
   "outputs": [
    {
     "name": "stdout",
     "output_type": "stream",
     "text": [
      "ENTER TEXT : natural language processing\n",
      "acronym of text :  NLP\n"
     ]
    }
   ],
   "source": [
    "acronyms()"
   ]
  },
  {
   "cell_type": "markdown",
   "id": "3cf416fd",
   "metadata": {},
   "source": [
    "## if you want to call same function for number of times(eg. 5 times)"
   ]
  },
  {
   "cell_type": "code",
   "execution_count": 7,
   "id": "ad9245be",
   "metadata": {},
   "outputs": [
    {
     "name": "stdout",
     "output_type": "stream",
     "text": [
      "ENTER TEXT : natural language processing\n",
      "acronym of text :  NLP\n",
      "ENTER TEXT : mumbai indians\n",
      "acronym of text :  MI\n",
      "ENTER TEXT : chennai super kings\n",
      "acronym of text :  CSK\n",
      "ENTER TEXT : world cup\n",
      "acronym of text :  WC\n",
      "ENTER TEXT : for your information\n",
      "acronym of text :  FYI\n"
     ]
    }
   ],
   "source": [
    "for i in range(5):\n",
    "    acronyms()"
   ]
  },
  {
   "cell_type": "code",
   "execution_count": null,
   "id": "4e81b3e3",
   "metadata": {},
   "outputs": [],
   "source": []
  }
 ],
 "metadata": {
  "kernelspec": {
   "display_name": "Python 3 (ipykernel)",
   "language": "python",
   "name": "python3"
  },
  "language_info": {
   "codemirror_mode": {
    "name": "ipython",
    "version": 3
   },
   "file_extension": ".py",
   "mimetype": "text/x-python",
   "name": "python",
   "nbconvert_exporter": "python",
   "pygments_lexer": "ipython3",
   "version": "3.9.12"
  }
 },
 "nbformat": 4,
 "nbformat_minor": 5
}
