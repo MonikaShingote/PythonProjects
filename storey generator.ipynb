{
 "cells": [
  {
   "cell_type": "raw",
   "id": "4c818e3a",
   "metadata": {},
   "source": [
    "Our task is to generate a random story every time the user runs the program. I will first store the parts of the stories in different lists, then the Random module can be used to select the random parts of the story stored in different lists:"
   ]
  },
  {
   "cell_type": "code",
   "execution_count": 1,
   "id": "3537e678",
   "metadata": {},
   "outputs": [],
   "source": [
    "import random"
   ]
  },
  {
   "cell_type": "code",
   "execution_count": 9,
   "id": "125243a9",
   "metadata": {},
   "outputs": [],
   "source": [
    "\n",
    "when = ['A few years ago', 'Yesterday', 'Last night', 'A long time ago','On 20th Jan']\n",
    "who = ['a rabbit', 'an elephant', 'a mouse', 'a turtle','a cat']\n",
    "name = ['Ali', 'Miriam','daniel', 'Hoouk', 'Starwalker']\n",
    "residence = ['Barcelona','India', 'Germany', 'Venice', 'England']\n",
    "went = ['cinema', 'university','seminar', 'school', 'laundry']\n",
    "happened = ['made a lot of friends','ate a burger', 'found a secret key', 'solved a mistery', 'wrote a book']"
   ]
  },
  {
   "cell_type": "code",
   "execution_count": 13,
   "id": "5abddfd4",
   "metadata": {},
   "outputs": [
    {
     "name": "stdout",
     "output_type": "stream",
     "text": [
      "On 20th Jan, a turtle name Ali that lived in India, went to the laundry and found a secret key\n"
     ]
    }
   ],
   "source": [
    "print(random.choice(when) + ', ' + random.choice(who) + ' name ' + random.choice(name) + ' that lived in ' + random.choice(residence) + ', went to the ' + random.choice(went) + ' and ' + random.choice(happened))\n"
   ]
  },
  {
   "cell_type": "code",
   "execution_count": 14,
   "id": "481309a0",
   "metadata": {},
   "outputs": [
    {
     "name": "stdout",
     "output_type": "stream",
     "text": [
      "On 20th Jan, an elephant name Starwalker that lived in Venice, went to the school and made a lot of friends\n"
     ]
    }
   ],
   "source": [
    "print(random.choice(when) + ', ' + random.choice(who) + ' name ' + random.choice(name) + ' that lived in ' + random.choice(residence) + ', went to the ' + random.choice(went) + ' and ' + random.choice(happened))\n"
   ]
  },
  {
   "cell_type": "code",
   "execution_count": 15,
   "id": "3cc3ca6f",
   "metadata": {},
   "outputs": [
    {
     "name": "stdout",
     "output_type": "stream",
     "text": [
      "On 20th Jan, a cat name Hoouk that lived in Venice, went to the laundry and made a lot of friends\n"
     ]
    }
   ],
   "source": [
    "print(random.choice(when) + ', ' + random.choice(who) + ' name ' + random.choice(name) + ' that lived in ' + random.choice(residence) + ', went to the ' + random.choice(went) + ' and ' + random.choice(happened))\n"
   ]
  },
  {
   "cell_type": "code",
   "execution_count": 16,
   "id": "6e388846",
   "metadata": {},
   "outputs": [
    {
     "name": "stdout",
     "output_type": "stream",
     "text": [
      "A few years ago, a rabbit name Hoouk that lived in India, went to the laundry and found a secret key\n"
     ]
    }
   ],
   "source": [
    "print(random.choice(when) + ', ' + random.choice(who) + ' name ' + random.choice(name) + ' that lived in ' + random.choice(residence) + ', went to the ' + random.choice(went) + ' and ' + random.choice(happened))\n"
   ]
  },
  {
   "cell_type": "code",
   "execution_count": 17,
   "id": "838b5b58",
   "metadata": {},
   "outputs": [
    {
     "name": "stdout",
     "output_type": "stream",
     "text": [
      "A long time ago, an elephant name daniel that lived in Barcelona, went to the cinema and ate a burger\n"
     ]
    }
   ],
   "source": [
    "print(random.choice(when) + ', ' + random.choice(who) + ' name ' + random.choice(name) + ' that lived in ' + random.choice(residence) + ', went to the ' + random.choice(went) + ' and ' + random.choice(happened))\n"
   ]
  },
  {
   "cell_type": "code",
   "execution_count": 18,
   "id": "b630fa50",
   "metadata": {},
   "outputs": [
    {
     "name": "stdout",
     "output_type": "stream",
     "text": [
      "A long time ago, a cat name Starwalker that lived in England, went to the university and found a secret key\n"
     ]
    }
   ],
   "source": [
    "print(random.choice(when) + ', ' + random.choice(who) + ' name ' + random.choice(name) + ' that lived in ' + random.choice(residence) + ', went to the ' + random.choice(went) + ' and ' + random.choice(happened))\n"
   ]
  },
  {
   "cell_type": "code",
   "execution_count": 19,
   "id": "2652546b",
   "metadata": {},
   "outputs": [
    {
     "name": "stdout",
     "output_type": "stream",
     "text": [
      "Yesterday, a mouse name Miriam that lived in Germany, went to the laundry and found a secret key\n"
     ]
    }
   ],
   "source": [
    "print(random.choice(when) + ', ' + random.choice(who) + ' name ' + random.choice(name) + ' that lived in ' + random.choice(residence) + ', went to the ' + random.choice(went) + ' and ' + random.choice(happened))\n"
   ]
  },
  {
   "cell_type": "code",
   "execution_count": 20,
   "id": "c17a9d62",
   "metadata": {},
   "outputs": [
    {
     "name": "stdout",
     "output_type": "stream",
     "text": [
      "A long time ago, an elephant name Hoouk that lived in Venice, went to the cinema and solved a mistery\n"
     ]
    }
   ],
   "source": [
    "print(random.choice(when) + ', ' + random.choice(who) + ' name ' + random.choice(name) + ' that lived in ' + random.choice(residence) + ', went to the ' + random.choice(went) + ' and ' + random.choice(happened))\n"
   ]
  },
  {
   "cell_type": "code",
   "execution_count": null,
   "id": "6bd4e94e",
   "metadata": {},
   "outputs": [],
   "source": []
  }
 ],
 "metadata": {
  "kernelspec": {
   "display_name": "Python 3 (ipykernel)",
   "language": "python",
   "name": "python3"
  },
  "language_info": {
   "codemirror_mode": {
    "name": "ipython",
    "version": 3
   },
   "file_extension": ".py",
   "mimetype": "text/x-python",
   "name": "python",
   "nbconvert_exporter": "python",
   "pygments_lexer": "ipython3",
   "version": "3.9.12"
  }
 },
 "nbformat": 4,
 "nbformat_minor": 5
}
